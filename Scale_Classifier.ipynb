{
  "cells": [
    {
      "cell_type": "markdown",
      "metadata": {
        "id": "mWlYCpOblXmN"
      },
      "source": [
        "# Build a CNN!: `ChromaLite()`\n",
        "\n",
        "ChromaLite: A lightweight convolutional neural network that classifes scales into 24 possible major/minor scales.\n",
        "\n",
        "Basic Architecture/Flow:\n",
        "\n",
        "1. First Convolutional Block:\n",
        "   - `Conv2d(1 → 16, kernel_size=(3, 3), padding=1)`: Takes a single-channel input (like a grayscale image) and applies 16 convolutional filters with 3×3 kernels. The padding=1 preserves the spatial dimensions.\n",
        "   - `ReLU`: Applies the Rectified Linear Unit activation function to introduce non-linearity.\n",
        "   - `MaxPool2d(kernel_size=(2, 2))`: Reduces the spatial dimensions by half, resulting in output shape [16, 6, 151] (16 channels, 6×151 spatial dimensions).\n",
        "\n",
        "2. Second Convolutional Block:\n",
        "   - `Conv2d(16 → 32, kernel_size=(3, 3), padding=1)`: Takes the 16 channels from previous layer and applies 32 convolutional filters.\n",
        "   - `ReLU`: Another non-linear activation.\n",
        "   - `MaxPool2d(kernel_size=(2, 2))`: Further reduces spatial dimensions, resulting in output shape [32, 3, 75].\n",
        "\n",
        "3. Classification Layers:\n",
        "   - `Flatten`: Transforms the 3D tensor [32, 3, 75] into a 1D vector of size 32×3×75 = 7,200.\n",
        "   - `Linear(32×3×75 → 128)`: Fully connected layer that reduces the 7,200 features to 128 neurons.\n",
        "   - `ReLU`: Non-linear activation.\n",
        "   - `Dropout(0.3)`: Randomly sets 30% of the inputs to zero during training to prevent overfitting.\n",
        "   - `Linear(128 → 24)`: Final fully connected layer that outputs 24 values, corresponding to your 24 scale classes.\n",
        "\n",
        "This architecture follows the typical CNN pattern: convolutional layers to extract features, pooling layers to reduce dimensions, and fully connected layers at the end for classification. The network classifies chromagram data into 24 different scale classes."
      ]
    },
    {
      "cell_type": "markdown",
      "metadata": {
        "id": "2xE1XNIGK51B"
      },
      "source": [
        "## `ChromaLite()` class"
      ]
    },
    {
      "cell_type": "code",
      "execution_count": 9,
      "metadata": {
        "id": "ozdh71w0B8P-"
      },
      "outputs": [],
      "source": [
        "import torch\n",
        "from torch import nn\n",
        "import torch.nn.functional as F\n",
        "\n",
        "class ChromaLite(nn.Module):\n",
        "  def __init__(self):\n",
        "    super().__init__()\n",
        "\n",
        "    # 2 conv blocks / flatten / Linear / ReLU / Dropout (optional) / Linear\n",
        "\n",
        "    # First convolutional layer\n",
        "    self.conv1 = nn.Sequential(\n",
        "        nn.Conv2d(\n",
        "\n",
        "          # 1 input channel since chroma tensors are [1, 12, 302] in shape.\n",
        "          # Think of these like grayscale images which are 12 pixels high (pitches) and 302 pixels wide (time frames)\n",
        "          in_channels = 1,\n",
        "\n",
        "          # Outputs 16 channels to learn 16 different features (essentially a tensor of shape [16, 12, 302]).\n",
        "          # This is an arbitrarily chosen number.\n",
        "          # however, it is large enough for training a good classifier that's also lightweight.\n",
        "\n",
        "          out_channels = 16,\n",
        "\n",
        "          # The kernel slides across the input, analyzing local 3x3 neighborhoods\n",
        "          # For instance, 3 pitch classes over 3 time frames — to detect local patterns in pitch-time space.\n",
        "          kernel_size = (3,3),\n",
        "\n",
        "          # Processes every possible position, ensuring all potential patterns are examined.\n",
        "\n",
        "          stride = 1,\n",
        "\n",
        "          #  If you don’t pad, you lose one border pixel on each edge, because the 3x3 kernel can’t be centered at the edges.\n",
        "          #  So without padding:\n",
        "          #    Input: [1, 12, 302]\n",
        "          #    Output: [16, 10, 300]\n",
        "          #  You lose 2 units on both axes (height and width)\n",
        "          #  But with padding=1:\n",
        "          #  Output stays [16, 12, 302] — same as input size\n",
        "          #  The network can learn patterns at the edges, too\n",
        "\n",
        "          padding = 1\n",
        "        ),\n",
        "\n",
        "        # keeps positive values unchanged, sets negative values to zero\n",
        "        nn.ReLU(),\n",
        "\n",
        "        # input dimensions: [16, 12, 302]. Output dimensions: [16, 6, 151] (spatial dimensions - pitch and timeframes - are halved)\n",
        "        # no padding reduces dimensions\n",
        "        # reduces computational load while preserving key information.\n",
        "        nn.MaxPool2d(kernel_size=(2,2))\n",
        "    )\n",
        "\n",
        "    # Second convolutional layer\n",
        "    self.conv2 = nn.Sequential(\n",
        "        nn.Conv2d(in_channels = 16, out_channels = 32, kernel_size = (3,3),padding = 1),\n",
        "        nn.ReLU(),\n",
        "        nn.MaxPool2d(kernel_size=(2,2))\n",
        "      )\n",
        "\n",
        "    # The classification layer\n",
        "\n",
        "    self.classification_layer = nn.Sequential(\n",
        "      nn.Flatten(),\n",
        "      nn.Linear(7200, 128),\n",
        "      nn.ReLU(),\n",
        "      nn.Dropout(0.3)\n",
        "      nn.Linear(128, 24)\n",
        "    )\n",
        "\n",
        "\n",
        "  def forward(self, x):\n",
        "    x = self.conv1(x)\n",
        "    x = F.relu(x)\n",
        "    x = self.conv2(x)\n",
        "    x = self.classification_layer(x)\n",
        "    return x"
      ]
    },
    {
      "cell_type": "markdown",
      "metadata": {
        "id": "8HZ_g47xKtiD"
      },
      "source": [
        "## Some testing on random tensors before writing training loop\n"
      ]
    },
    {
      "cell_type": "code",
      "execution_count": null,
      "metadata": {
        "colab": {
          "base_uri": "https://localhost:8080/"
        },
        "id": "HyDCXaFECrII",
        "outputId": "c90c894c-2c64-4e37-a367-0fc2c9118bc2"
      },
      "outputs": [
        {
          "output_type": "execute_result",
          "data": {
            "text/plain": [
              "torch.Size([4, 24])"
            ]
          },
          "metadata": {},
          "execution_count": 4
        }
      ],
      "source": [
        "import random\n",
        "model = ChromaLite()\n",
        "random.seed(42)\n",
        "dummy_input = torch.randn(4, 1, 12, 302)\n",
        "output = model(dummy_input)\n",
        "output.shape"
      ]
    },
    {
      "cell_type": "markdown",
      "metadata": {
        "id": "Pi1c3yUYLAxR"
      },
      "source": [
        "## Building a training loop"
      ]
    },
    {
      "cell_type": "markdown",
      "metadata": {
        "id": "ufCJAAGdNzSS"
      },
      "source": [
        "### Loading Data"
      ]
    },
    {
      "cell_type": "code",
      "execution_count": 13,
      "metadata": {
        "id": "V8AJz8mFMkaY"
      },
      "outputs": [],
      "source": [
        "import torch\n",
        "from torch.utils.data import DataLoader, Dataset\n",
        "from sklearn.model_selection import train_test_split\n",
        "import pandas as pd\n",
        "\n",
        "data = torch.load(\"/content/chroma_tensors.pt\")\n",
        "X = data['X']  # list of [1, 12, 302] tensors\n",
        "y = data['y']  # list of scale indices\n",
        "\n",
        "#  stratify ensures that the training and testing sets maintain the same proportion of samples for each class as in the original dataset\n",
        "X_train, X_test, y_train, y_test = train_test_split(\n",
        "    X, y,\n",
        "    test_size=0.4,\n",
        "    stratify=y,\n",
        "    random_state=42\n",
        ")"
      ]
    },
    {
      "cell_type": "code",
      "execution_count": null,
      "metadata": {
        "id": "vXbFU8Bze0Yo"
      },
      "outputs": [],
      "source": []
    },
    {
      "cell_type": "code",
      "execution_count": 14,
      "metadata": {
        "id": "CEuk-aIFZneG",
        "colab": {
          "base_uri": "https://localhost:8080/"
        },
        "outputId": "09ec40e6-ef0b-4565-a2b9-cea0fd72bb7b"
      },
      "outputs": [
        {
          "output_type": "stream",
          "name": "stdout",
          "text": [
            "<class 'list'>\n",
            "<class 'int'>\n"
          ]
        }
      ],
      "source": [
        "print(type(y))          # list? tensor?\n",
        "print(type(y[0]))       # float? int?"
      ]
    },
    {
      "cell_type": "code",
      "execution_count": 15,
      "metadata": {
        "id": "B1mI0IOYM6P6"
      },
      "outputs": [],
      "source": [
        "from torch.utils.data import Dataset\n",
        "class ChromaDataset(Dataset):\n",
        "  def __init__(self, X, y):\n",
        "    self.X = X\n",
        "    self.y = y\n",
        "\n",
        "  def __getitem__(self, idx):\n",
        "    return self.X[idx].float(), torch.tensor(self.y[idx]).long()\n",
        "\n",
        "  def __len__(self):\n",
        "    return len(self.X)"
      ]
    },
    {
      "cell_type": "code",
      "execution_count": 16,
      "metadata": {
        "id": "jsQWqobZNWVb"
      },
      "outputs": [],
      "source": [
        "train_dataset = ChromaDataset(X_train, y_train)\n",
        "test_dataset = ChromaDataset(X_test, y_test)\n",
        "\n",
        "train_loader = DataLoader(train_dataset, batch_size=32, shuffle=True)\n",
        "test_loader = DataLoader(test_dataset, batch_size=32)"
      ]
    },
    {
      "cell_type": "markdown",
      "metadata": {
        "id": "JBZZaros6DvK"
      },
      "source": [
        "#### Some Sanity Checks"
      ]
    },
    {
      "cell_type": "markdown",
      "metadata": {
        "id": "wYSE_3K66U9B"
      },
      "source": [
        "Checking types"
      ]
    },
    {
      "cell_type": "code",
      "execution_count": null,
      "metadata": {
        "id": "TWubcV5_43En"
      },
      "outputs": [],
      "source": []
    },
    {
      "cell_type": "markdown",
      "metadata": {
        "id": "kTOEiWtb6WNd"
      },
      "source": [
        "Checking ranges"
      ]
    },
    {
      "cell_type": "code",
      "execution_count": 17,
      "metadata": {
        "id": "YJl_C7pC44m-",
        "colab": {
          "base_uri": "https://localhost:8080/"
        },
        "outputId": "a2f08f33-b8ca-46f3-fc35-b0b88f3801c1"
      },
      "outputs": [
        {
          "output_type": "execute_result",
          "data": {
            "text/plain": [
              "torch.float64"
            ]
          },
          "metadata": {},
          "execution_count": 17
        }
      ],
      "source": [
        "assert all(isinstance(x, torch.Tensor) for x in X_train)\n",
        "assert all(x.shape[1] == 12 for x in X_train)\n",
        "assert all(x.shape[0] == 1 for x in X_train)\n",
        "\n",
        "X_train[0].dtype"
      ]
    },
    {
      "cell_type": "markdown",
      "metadata": {
        "id": "HephwvNt7PNZ"
      },
      "source": [
        "Making sure `ChromaDataset` works"
      ]
    },
    {
      "cell_type": "code",
      "execution_count": 18,
      "metadata": {
        "id": "HBVivds27S89",
        "colab": {
          "base_uri": "https://localhost:8080/"
        },
        "outputId": "65eea790-d2c6-4829-d8ad-cd6647cd521e"
      },
      "outputs": [
        {
          "output_type": "stream",
          "name": "stdout",
          "text": [
            "torch.Size([1, 12, 302])\n"
          ]
        }
      ],
      "source": [
        "dataset = ChromaDataset(X_train, y_train)\n",
        "sample_x, sample_y = dataset[12]\n",
        "print(sample_x.shape)"
      ]
    },
    {
      "cell_type": "markdown",
      "metadata": {
        "id": "ry1NKa4H7ih2"
      },
      "source": [
        "Ensuring `DataLoader()` works"
      ]
    },
    {
      "cell_type": "code",
      "execution_count": 19,
      "metadata": {
        "id": "50qMfz7q7mTP",
        "colab": {
          "base_uri": "https://localhost:8080/"
        },
        "outputId": "189e022f-fcb4-41ee-9822-eae6925db726"
      },
      "outputs": [
        {
          "output_type": "stream",
          "name": "stdout",
          "text": [
            "torch.Size([4, 1, 12, 302])\n",
            "torch.Size([4])\n"
          ]
        }
      ],
      "source": [
        "loader = DataLoader(dataset, batch_size=4, shuffle=True)\n",
        "xb, yb = next(iter(loader))\n",
        "print(xb.shape)\n",
        "print(yb.shape)"
      ]
    },
    {
      "cell_type": "markdown",
      "metadata": {
        "id": "UctUyqNm7ECj"
      },
      "source": [
        "Recovering chromagram from tensor"
      ]
    },
    {
      "cell_type": "code",
      "execution_count": 20,
      "metadata": {
        "id": "IY8I8TNh53qQ",
        "colab": {
          "base_uri": "https://localhost:8080/",
          "height": 410
        },
        "outputId": "2fa4ca7f-181b-48c7-9e4f-d9b5728804a2"
      },
      "outputs": [
        {
          "output_type": "display_data",
          "data": {
            "text/plain": [
              "<Figure size 1000x400 with 2 Axes>"
            ],
            "image/png": "[encoded data removed]"
          },
          "metadata": {}
        }
      ],
      "source": [
        "import matplotlib.pyplot as plt\n",
        "import librosa.display\n",
        "\n",
        "chroma = X_train[12].squeeze(0).numpy()  # [12, T]\n",
        "plt.figure(figsize=(10, 4))\n",
        "librosa.display.specshow(chroma, y_axis='chroma', x_axis='time')\n",
        "plt.title(f\"Scale Index: {y_train[12]}\")\n",
        "plt.colorbar()\n",
        "plt.show()"
      ]
    },
    {
      "cell_type": "code",
      "execution_count": 20,
      "metadata": {
        "id": "SR1lvK-LNm0u"
      },
      "outputs": [],
      "source": []
    },
    {
      "cell_type": "markdown",
      "metadata": {
        "id": "dyF_2zxtOJpi"
      },
      "source": [
        "### Model Specifications"
      ]
    },
    {
      "cell_type": "code",
      "execution_count": 21,
      "metadata": {
        "id": "0n10QBa2OMRR"
      },
      "outputs": [],
      "source": [
        "import torch.nn as nn\n",
        "device = torch.device(\"cuda\" if torch.cuda.is_available() else \"cpu\")\n",
        "model = ChromaLite().to(device)\n",
        "\n",
        "loss_fn = nn.CrossEntropyLoss()\n",
        "optimizer = torch.optim.Adam(model.parameters(), lr=0.001)"
      ]
    },
    {
      "cell_type": "markdown",
      "metadata": {
        "id": "HtldVAiFOmpR"
      },
      "source": [
        "### Core Training Loop"
      ]
    },
    {
      "cell_type": "code",
      "execution_count": 25,
      "metadata": {
        "id": "tXP4kQLVOM8j"
      },
      "outputs": [],
      "source": [
        "from tqdm import tqdm\n",
        "def train_single_epoch(model, data_loader, loss_fn, optimizer, device):\n",
        "    model.train()\n",
        "    running_loss = 0.0\n",
        "    correct = 0\n",
        "    total = 0\n",
        "\n",
        "    for xb, yb in data_loader:\n",
        "        xb, yb = xb.to(device), yb.to(device)\n",
        "\n",
        "        optimizer.zero_grad()\n",
        "        outputs = model(xb)\n",
        "        loss = loss_fn(outputs, yb)\n",
        "        loss.backward()\n",
        "        optimizer.step()\n",
        "\n",
        "        running_loss += loss.item()\n",
        "        preds = torch.argmax(outputs, dim=1)\n",
        "        correct += (preds == yb).sum().item()\n",
        "        total += yb.size(0)\n",
        "\n",
        "    train_acc = correct / total\n",
        "    avg_loss = running_loss / len(data_loader)\n",
        "\n",
        "    return avg_loss, train_acc\n",
        "\n",
        "def evaluate(model, data_loader, device):\n",
        "    model.eval()\n",
        "    correct = 0\n",
        "    total = 0\n",
        "\n",
        "    with torch.no_grad():\n",
        "        for xb, yb in data_loader:\n",
        "            xb, yb = xb.to(device), yb.to(device)\n",
        "            outputs = model(xb)\n",
        "            preds = torch.argmax(outputs, dim=1)\n",
        "            correct += (preds == yb).sum().item()\n",
        "            total += yb.size(0)\n",
        "\n",
        "    return correct / total\n",
        "\n",
        "def train(model, train_loader, test_loader, loss_fn, optimizer, device, epochs):\n",
        "    for epoch in range(epochs):\n",
        "        print(f\"\\nEpoch {epoch+1}/{epochs}\")\n",
        "\n",
        "        train_loss, train_acc = train_single_epoch(model, train_loader, loss_fn, optimizer, device)\n",
        "        test_acc = evaluate(model, test_loader, device)\n",
        "\n",
        "        print(f\"Train Loss: {train_loss:.4f} | Train Acc: {train_acc:.4f} | Test Acc: {test_acc:.4f}\")\n",
        "        print(\"-\" * 70)\n"
      ]
    },
    {
      "cell_type": "code",
      "execution_count": 26,
      "metadata": {
        "id": "PSxK1wWXQT8w",
        "colab": {
          "base_uri": "https://localhost:8080/"
        },
        "outputId": "73bc9558-6f69-4d67-e88b-c0ad29563a65"
      },
      "outputs": [
        {
          "output_type": "stream",
          "name": "stdout",
          "text": [
            "\n",
            "Epoch 1/5\n",
            "Train Loss: 1.3734 | Train Acc: 0.5962 | Test Acc: 0.8861\n",
            "----------------------------------------------------------------------\n",
            "\n",
            "Epoch 2/5\n",
            "Train Loss: 0.1405 | Train Acc: 0.9622 | Test Acc: 0.9819\n",
            "----------------------------------------------------------------------\n",
            "\n",
            "Epoch 3/5\n",
            "Train Loss: 0.0476 | Train Acc: 0.9885 | Test Acc: 0.9917\n",
            "----------------------------------------------------------------------\n",
            "\n",
            "Epoch 4/5\n",
            "Train Loss: 0.0099 | Train Acc: 0.9986 | Test Acc: 0.9875\n",
            "----------------------------------------------------------------------\n",
            "\n",
            "Epoch 5/5\n",
            "Train Loss: 0.0191 | Train Acc: 0.9960 | Test Acc: 0.9889\n",
            "----------------------------------------------------------------------\n"
          ]
        }
      ],
      "source": [
        "import torch.nn as nn\n",
        "device = torch.device(\"cuda\" if torch.cuda.is_available() else \"cpu\")\n",
        "model = ChromaLite().to(device)\n",
        "\n",
        "loss_fn = nn.CrossEntropyLoss()\n",
        "optimizer = torch.optim.Adam(model.parameters(), lr=0.001)\n",
        "\n",
        "train(model, train_loader, test_loader, loss_fn, optimizer, device, epochs=5)"
      ]
    },
    {
      "cell_type": "code",
      "execution_count": 27,
      "metadata": {
        "id": "ydRfs9joT90R"
      },
      "outputs": [],
      "source": []
    },
    {
      "cell_type": "code",
      "execution_count": null,
      "metadata": {
        "id": "-v0Kb8LDUd9V"
      },
      "outputs": [],
      "source": []
    }
  ],
  "metadata": {
    "colab": {
      "provenance": []
    },
    "kernelspec": {
      "display_name": "Python 3",
      "name": "python3"
    },
    "language_info": {
      "name": "python"
    }
  },
  "nbformat": 4,
  "nbformat_minor": 0
}