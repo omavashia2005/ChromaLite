{
  "cells": [
    {
      "cell_type": "markdown",
      "metadata": {
        "id": "mWlYCpOblXmN"
      },
      "source": [
        "# Build a CNN!: `ChromaLite()`\n",
        "\n",
        "ChromaLite: A lightweight convolutional neural network that classifes scales into 24 possible major/minor scales.\n",
        "\n",
        "Basic Architecture/Flow:\n",
        "\n",
        "1. First Convolutional Block:\n",
        "   - `Conv2d(1 → 16, kernel_size=(3, 3), padding=1)`: Takes a single-channel input (like a grayscale image) and applies 16 convolutional filters with 3×3 kernels. The padding=1 preserves the spatial dimensions.\n",
        "   - `ReLU`: Applies the Rectified Linear Unit activation function to introduce non-linearity.\n",
        "   - `MaxPool2d(kernel_size=(2, 2))`: Reduces the spatial dimensions by half, resulting in output shape [16, 6, 151] (16 channels, 6×151 spatial dimensions).\n",
        "\n",
        "2. Second Convolutional Block:\n",
        "   - `Conv2d(16 → 32, kernel_size=(3, 3), padding=1)`: Takes the 16 channels from previous layer and applies 32 convolutional filters.\n",
        "   - `ReLU`: Another non-linear activation.\n",
        "   - `MaxPool2d(kernel_size=(2, 2))`: Further reduces spatial dimensions, resulting in output shape [32, 3, 75].\n",
        "\n",
        "3. Classification Layers:\n",
        "   - `Flatten`: Transforms the 3D tensor [32, 3, 75] into a 1D vector of size 32×3×75 = 7,200.\n",
        "   - `Linear(32×3×75 → 128)`: Fully connected layer that reduces the 7,200 features to 128 neurons.\n",
        "   - `ReLU`: Non-linear activation.\n",
        "   - `Dropout(0.3)`: Randomly sets 30% of the inputs to zero during training to prevent overfitting.\n",
        "   - `Linear(128 → 24)`: Final fully connected layer that outputs 24 values, corresponding to your 24 scale classes.\n",
        "\n",
        "This architecture follows the typical CNN pattern: convolutional layers to extract features, pooling layers to reduce dimensions, and fully connected layers at the end for classification. The network classifies chromagram data into 24 different scale classes."
      ]
    },
    {
      "cell_type": "markdown",
      "metadata": {
        "id": "2xE1XNIGK51B"
      },
      "source": [
        "## `ChromaLite()` class"
      ]
    },
    {
      "cell_type": "code",
      "execution_count": 79,
      "metadata": {
        "id": "ozdh71w0B8P-"
      },
      "outputs": [],
      "source": [
        "import torch\n",
        "from torch import nn\n",
        "import torch.nn.functional as F\n",
        "\n",
        "class ChromaLite(nn.Module):\n",
        "  def __init__(self):\n",
        "    super().__init__()\n",
        "\n",
        "    # 2 conv blocks / flatten / Linear / ReLU / Dropout (optional) / Linear\n",
        "\n",
        "    # First convolutional layer\n",
        "    self.conv1 = nn.Sequential(\n",
        "        nn.Conv2d(\n",
        "\n",
        "          # 1 input channel since chroma tensors are [1, 12, 302] in shape.\n",
        "          # Think of these like grayscale images which are 12 pixels high (pitches) and 302 pixels wide (time frames)\n",
        "          in_channels = 1,\n",
        "\n",
        "          # Outputs 16 channels to learn 16 different features (essentially a tensor of shape [16, 12, 302]).\n",
        "          # This is an arbitrarily chosen number.\n",
        "          # however, it is large enough for training a good classifier that's also lightweight.\n",
        "\n",
        "          out_channels = 16,\n",
        "\n",
        "          # The kernel slides across the input, analyzing local 3x3 neighborhoods\n",
        "          # For instance, 3 pitch classes over 3 time frames — to detect local patterns in pitch-time space.\n",
        "          kernel_size = (3,3),\n",
        "\n",
        "          # Processes every possible position, ensuring all potential patterns are examined.\n",
        "\n",
        "          stride = 1,\n",
        "\n",
        "          #  If you don’t pad, you lose one border pixel on each edge, because the 3x3 kernel can’t be centered at the edges.\n",
        "          #  So without padding:\n",
        "          #    Input: [1, 12, 302]\n",
        "          #    Output: [16, 10, 300]\n",
        "          #  You lose 2 units on both axes (height and width)\n",
        "          #  But with padding=1:\n",
        "          #  Output stays [16, 12, 302] — same as input size\n",
        "          #  The network can learn patterns at the edges, too\n",
        "\n",
        "          padding = 1\n",
        "        ),\n",
        "\n",
        "        # keeps positive values unchanged, sets negative values to zero\n",
        "        nn.ReLU(),\n",
        "\n",
        "        # input dimensions: [16, 12, 302]. Output dimensions: [16, 6, 151] (spatial dimensions - pitch and timeframes - are halved)\n",
        "        # no padding reduces dimensions\n",
        "        # reduces computational load while preserving key information.\n",
        "        nn.MaxPool2d(kernel_size=(2,2))\n",
        "    )\n",
        "\n",
        "    # Second convolutional layer\n",
        "    self.conv2 = nn.Sequential(\n",
        "        nn.Conv2d(in_channels = 16, out_channels = 32, kernel_size = (3,3),padding = 1),\n",
        "        nn.ReLU(),\n",
        "        nn.MaxPool2d(kernel_size=(2,2))\n",
        "      )\n",
        "\n",
        "    # The classification layer\n",
        "\n",
        "    self.classification_layer = nn.Sequential(\n",
        "      nn.Flatten(),\n",
        "      nn.Linear(7200, 128),\n",
        "      nn.ReLU(),\n",
        "      # nn.Dropout(0.30),\n",
        "      nn.Linear(128, 24)\n",
        "    )\n",
        "\n",
        "\n",
        "  def forward(self, x):\n",
        "    x = self.conv1(x)\n",
        "    x = F.relu(x)\n",
        "    x = self.conv2(x)\n",
        "    x = F.relu(x)\n",
        "    x = self.classification_layer(x)\n",
        "    return x"
      ]
    },
    {
      "cell_type": "markdown",
      "metadata": {
        "id": "8HZ_g47xKtiD"
      },
      "source": [
        "## Some testing on random tensors before writing training loop\n"
      ]
    },
    {
      "cell_type": "code",
      "execution_count": 20,
      "metadata": {
        "colab": {
          "base_uri": "https://localhost:8080/"
        },
        "id": "HyDCXaFECrII",
        "outputId": "e71d4c02-5dbd-429d-cd45-12c878fa286b"
      },
      "outputs": [
        {
          "output_type": "execute_result",
          "data": {
            "text/plain": [
              "torch.Size([4, 24])"
            ]
          },
          "metadata": {},
          "execution_count": 20
        }
      ],
      "source": [
        "import random\n",
        "model = ChromaLite()\n",
        "random.seed(42)\n",
        "dummy_input = torch.randn(4, 1, 12, 302)\n",
        "output = model(dummy_input)\n",
        "output.shape"
      ]
    },
    {
      "cell_type": "markdown",
      "metadata": {
        "id": "Pi1c3yUYLAxR"
      },
      "source": [
        "## Building a training loop"
      ]
    },
    {
      "cell_type": "markdown",
      "metadata": {
        "id": "ufCJAAGdNzSS"
      },
      "source": [
        "### Loading Data"
      ]
    },
    {
      "cell_type": "code",
      "execution_count": 74,
      "metadata": {
        "id": "V8AJz8mFMkaY"
      },
      "outputs": [],
      "source": [
        "import torch\n",
        "from torch.utils.data import DataLoader, Dataset\n",
        "from sklearn.model_selection import train_test_split\n",
        "import pandas as pd\n",
        "\n",
        "data = torch.load(\"/content/chroma_tensors.pt\")\n",
        "X = data['X']  # list of [1, 12, 302] tensors\n",
        "y = data['y']  # list of scale indices\n",
        "\n",
        "\n",
        "seen = set()\n",
        "unique_X = []\n",
        "unique_y = []\n",
        "\n",
        "for x, y_ in zip(X, y):\n",
        "    h = hash(x.numpy().tobytes())\n",
        "    if h not in seen:\n",
        "        seen.add(h)\n",
        "        unique_X.append(x)\n",
        "        unique_y.append(y_)\n",
        "\n",
        "X = unique_X\n",
        "y = unique_y\n",
        "\n",
        "#  stratify ensures that the training and testing sets maintain the same proportion of samples for each class as in the original dataset\n",
        "X_train, X_test, y_train, y_test = train_test_split(\n",
        "    X, y,\n",
        "    test_size=0.2,\n",
        "    stratify=y,\n",
        "    random_state=42\n",
        ")"
      ]
    },
    {
      "cell_type": "code",
      "execution_count": 64,
      "metadata": {
        "id": "CEuk-aIFZneG",
        "colab": {
          "base_uri": "https://localhost:8080/"
        },
        "outputId": "7712f772-f345-432b-f5e0-0646f739ed78"
      },
      "outputs": [
        {
          "output_type": "stream",
          "name": "stdout",
          "text": [
            "<class 'list'>\n",
            "<class 'int'>\n"
          ]
        }
      ],
      "source": [
        "print(type(y))          # list? tensor?\n",
        "print(type(y[0]))       # float? int?"
      ]
    },
    {
      "cell_type": "code",
      "execution_count": 65,
      "metadata": {
        "id": "B1mI0IOYM6P6"
      },
      "outputs": [],
      "source": [
        "from torch.utils.data import Dataset\n",
        "class ChromaDataset(Dataset):\n",
        "  def __init__(self, X, y):\n",
        "    self.X = X\n",
        "    self.y = y\n",
        "\n",
        "  def __getitem__(self, idx):\n",
        "    return self.X[idx].float(), torch.tensor(self.y[idx]).long()\n",
        "\n",
        "  def __len__(self):\n",
        "    return len(self.X)"
      ]
    },
    {
      "cell_type": "code",
      "execution_count": 66,
      "metadata": {
        "id": "jsQWqobZNWVb"
      },
      "outputs": [],
      "source": [
        "train_dataset = ChromaDataset(X_train, y_train)\n",
        "test_dataset = ChromaDataset(X_test, y_test)\n",
        "\n",
        "train_loader = DataLoader(train_dataset, batch_size=32, shuffle=True)\n",
        "test_loader = DataLoader(test_dataset, batch_size=32)"
      ]
    },
    {
      "cell_type": "markdown",
      "metadata": {
        "id": "JBZZaros6DvK"
      },
      "source": [
        "#### Some Sanity Checks"
      ]
    },
    {
      "cell_type": "markdown",
      "metadata": {
        "id": "wYSE_3K66U9B"
      },
      "source": [
        "Checking types"
      ]
    },
    {
      "cell_type": "code",
      "execution_count": 66,
      "metadata": {
        "id": "TWubcV5_43En"
      },
      "outputs": [],
      "source": []
    },
    {
      "cell_type": "markdown",
      "metadata": {
        "id": "kTOEiWtb6WNd"
      },
      "source": [
        "Checking ranges"
      ]
    },
    {
      "cell_type": "code",
      "execution_count": 67,
      "metadata": {
        "id": "YJl_C7pC44m-",
        "colab": {
          "base_uri": "https://localhost:8080/"
        },
        "outputId": "c4778bd3-fcef-48a0-a6e1-fcfc1a535d31"
      },
      "outputs": [
        {
          "output_type": "execute_result",
          "data": {
            "text/plain": [
              "torch.float64"
            ]
          },
          "metadata": {},
          "execution_count": 67
        }
      ],
      "source": [
        "assert all(isinstance(x, torch.Tensor) for x in X_train)\n",
        "assert all(x.shape[1] == 12 for x in X_train)\n",
        "assert all(x.shape[0] == 1 for x in X_train)\n",
        "\n",
        "X_train[0].dtype"
      ]
    },
    {
      "cell_type": "markdown",
      "metadata": {
        "id": "HephwvNt7PNZ"
      },
      "source": [
        "Making sure `ChromaDataset` works"
      ]
    },
    {
      "cell_type": "code",
      "execution_count": 68,
      "metadata": {
        "id": "HBVivds27S89",
        "colab": {
          "base_uri": "https://localhost:8080/"
        },
        "outputId": "9912a3bb-dfa4-4414-865d-27f96952a8ef"
      },
      "outputs": [
        {
          "output_type": "stream",
          "name": "stdout",
          "text": [
            "torch.Size([1, 12, 302])\n"
          ]
        }
      ],
      "source": [
        "dataset = ChromaDataset(X_train, y_train)\n",
        "sample_x, sample_y = dataset[12]\n",
        "print(sample_x.shape)"
      ]
    },
    {
      "cell_type": "markdown",
      "metadata": {
        "id": "ry1NKa4H7ih2"
      },
      "source": [
        "Ensuring `DataLoader()` works"
      ]
    },
    {
      "cell_type": "code",
      "execution_count": 69,
      "metadata": {
        "id": "50qMfz7q7mTP",
        "colab": {
          "base_uri": "https://localhost:8080/"
        },
        "outputId": "dc0b4e82-4d54-44e3-8d30-18d3f2673ba5"
      },
      "outputs": [
        {
          "output_type": "stream",
          "name": "stdout",
          "text": [
            "torch.Size([4, 1, 12, 302])\n",
            "torch.Size([4])\n"
          ]
        }
      ],
      "source": [
        "loader = DataLoader(dataset, batch_size=4, shuffle=True)\n",
        "xb, yb = next(iter(loader))\n",
        "print(xb.shape)\n",
        "print(yb.shape)"
      ]
    },
    {
      "cell_type": "markdown",
      "metadata": {
        "id": "UctUyqNm7ECj"
      },
      "source": [
        "Recovering chromagram from tensor"
      ]
    },
    {
      "cell_type": "code",
      "execution_count": 70,
      "metadata": {
        "id": "IY8I8TNh53qQ",
        "colab": {
          "base_uri": "https://localhost:8080/",
          "height": 410
        },
        "outputId": "2a2f2fd7-cdf5-4714-97c6-bef19e2bd04d"
      },
      "outputs": [
        {
          "output_type": "display_data",
          "data": {
            "text/plain": [
              "<Figure size 1000x400 with 2 Axes>"
            ],
            "image/png": "[encoded data removed]"
          },
          "metadata": {}
        }
      ],
      "source": [
        "import matplotlib.pyplot as plt\n",
        "import librosa.display\n",
        "\n",
        "chroma = X_train[12].squeeze(0).numpy()  # [12, T]\n",
        "plt.figure(figsize=(10, 4))\n",
        "librosa.display.specshow(chroma, y_axis='chroma', x_axis='time')\n",
        "plt.title(f\"Scale Index: {y_train[12]}\")\n",
        "plt.colorbar()\n",
        "plt.show()"
      ]
    },
    {
      "cell_type": "code",
      "execution_count": 70,
      "metadata": {
        "id": "SR1lvK-LNm0u"
      },
      "outputs": [],
      "source": []
    },
    {
      "cell_type": "markdown",
      "metadata": {
        "id": "dyF_2zxtOJpi"
      },
      "source": [
        "### Model Specifications"
      ]
    },
    {
      "cell_type": "code",
      "execution_count": 71,
      "metadata": {
        "id": "0n10QBa2OMRR"
      },
      "outputs": [],
      "source": [
        "import torch.nn as nn\n",
        "device = torch.device(\"cuda\" if torch.cuda.is_available() else \"cpu\")\n",
        "model = ChromaLite().to(device)\n",
        "\n",
        "loss_fn = nn.CrossEntropyLoss()\n",
        "optimizer = torch.optim.Adam(model.parameters(), lr=0.001)"
      ]
    },
    {
      "cell_type": "markdown",
      "metadata": {
        "id": "HtldVAiFOmpR"
      },
      "source": [
        "### Core Training Loop"
      ]
    },
    {
      "cell_type": "code",
      "execution_count": 86,
      "metadata": {
        "id": "tXP4kQLVOM8j"
      },
      "outputs": [],
      "source": [
        "from tqdm import tqdm\n",
        "def train_single_epoch(model, data_loader, loss_fn, optimizer, device):\n",
        "    model.train()\n",
        "    running_loss = 0.0\n",
        "    correct = 0\n",
        "    total = 0\n",
        "\n",
        "    for xb, yb in data_loader:\n",
        "        xb, yb = xb.to(device), yb.to(device)\n",
        "\n",
        "        optimizer.zero_grad()\n",
        "        outputs = model(xb)\n",
        "        loss = loss_fn(outputs, yb)\n",
        "        loss.backward()\n",
        "        optimizer.step()\n",
        "\n",
        "        running_loss += loss.item()\n",
        "        preds = torch.argmax(outputs, dim=1)\n",
        "        correct += (preds == yb).sum().item()\n",
        "        total += yb.size(0)\n",
        "\n",
        "    train_acc = correct / total\n",
        "    avg_loss = running_loss / len(data_loader)\n",
        "\n",
        "    return avg_loss, train_acc\n",
        "\n",
        "def evaluate(model, data_loader, device):\n",
        "    model.eval()\n",
        "    correct = 0\n",
        "    total = 0\n",
        "\n",
        "    with torch.no_grad():\n",
        "        for xb, yb in data_loader:\n",
        "            xb, yb = xb.to(device), yb.to(device)\n",
        "            outputs = model(xb)\n",
        "            preds = torch.argmax(outputs, dim=1)\n",
        "            correct += (preds == yb).sum().item()\n",
        "            total += yb.size(0)\n",
        "\n",
        "    return correct / total\n",
        "\n",
        "def train(model, train_loader, test_loader, loss_fn, optimizer, device, epochs):\n",
        "    train_losses = []\n",
        "    train_accuracies = []\n",
        "    test_accuracies = []\n",
        "\n",
        "    for epoch in range(epochs):\n",
        "        print(f\"\\nEpoch {epoch+1}/{epochs}\")\n",
        "\n",
        "        train_loss, train_acc = train_single_epoch(model, train_loader, loss_fn, optimizer, device)\n",
        "        test_acc = evaluate(model, test_loader, device)\n",
        "\n",
        "        train_losses.append(train_loss)\n",
        "        train_accuracies.append(train_acc)\n",
        "        test_accuracies.append(test_acc)\n",
        "\n",
        "        print(f\"Train Loss: {train_loss:.4f} | Train Acc: {train_acc:.4f} | Test Acc: {test_acc:.4f}\")\n",
        "\n",
        "        if epoch == epochs - 1:\n",
        "          epochs_range = range(1, len(train_losses) + 1)\n",
        "\n",
        "          plt.figure(figsize=(14, 5))\n",
        "\n",
        "          # Accuracy plot\n",
        "          plt.subplot(1, 2, 1)\n",
        "          plt.plot(epochs_range, train_accuracies, label='Train Accuracy')\n",
        "          plt.plot(epochs_range, test_accuracies, label='Test Accuracy')\n",
        "          plt.title('Accuracy Over Epochs')\n",
        "          plt.xlabel('Epoch')\n",
        "          plt.ylabel('Accuracy')\n",
        "          plt.legend()\n",
        "          plt.grid(True, alpha=0.3)\n",
        "\n",
        "          # Loss plot\n",
        "          plt.subplot(1, 2, 2)\n",
        "          plt.plot(epochs_range, train_losses, label='Train Loss')\n",
        "          plt.title('Training Loss Over Epochs')\n",
        "          plt.xlabel('Epoch')\n",
        "          plt.ylabel('Loss')\n",
        "          plt.legend()\n",
        "          plt.grid(True, alpha=0.3)\n",
        "\n",
        "          plt.tight_layout()\n",
        "          plt.show()\n",
        "        print(\"-\" * 70)\n"
      ]
    },
    {
      "cell_type": "code",
      "execution_count": 87,
      "metadata": {
        "id": "PSxK1wWXQT8w",
        "colab": {
          "base_uri": "https://localhost:8080/",
          "height": 1000
        },
        "outputId": "2fe30692-c1e6-499f-ebf4-dd3e5e5ce7e8"
      },
      "outputs": [
        {
          "output_type": "stream",
          "name": "stdout",
          "text": [
            "\n",
            "Epoch 1/8\n",
            "Train Loss: 3.1844 | Train Acc: 0.0381 | Test Acc: 0.1111\n",
            "----------------------------------------------------------------------\n",
            "\n",
            "Epoch 2/8\n",
            "Train Loss: 2.9649 | Train Acc: 0.1268 | Test Acc: 0.2641\n",
            "----------------------------------------------------------------------\n",
            "\n",
            "Epoch 3/8\n",
            "Train Loss: 2.0449 | Train Acc: 0.3735 | Test Acc: 0.4747\n",
            "----------------------------------------------------------------------\n",
            "\n",
            "Epoch 4/8\n",
            "Train Loss: 1.0594 | Train Acc: 0.6802 | Test Acc: 0.7042\n",
            "----------------------------------------------------------------------\n",
            "\n",
            "Epoch 5/8\n",
            "Train Loss: 0.5199 | Train Acc: 0.8537 | Test Acc: 0.7547\n",
            "----------------------------------------------------------------------\n",
            "\n",
            "Epoch 6/8\n",
            "Train Loss: 0.2804 | Train Acc: 0.9385 | Test Acc: 0.8023\n",
            "----------------------------------------------------------------------\n",
            "\n",
            "Epoch 7/8\n",
            "Train Loss: 0.1529 | Train Acc: 0.9759 | Test Acc: 0.7893\n",
            "----------------------------------------------------------------------\n",
            "\n",
            "Epoch 8/8\n",
            "Train Loss: 0.1286 | Train Acc: 0.9720 | Test Acc: 0.8139\n"
          ]
        },
        {
          "output_type": "display_data",
          "data": {
            "text/plain": [
              "<Figure size 1400x500 with 2 Axes>"
            ],
            "image/png": "[encoded data removed]"
          },
          "metadata": {}
        },
        {
          "output_type": "stream",
          "name": "stdout",
          "text": [
            "----------------------------------------------------------------------\n"
          ]
        }
      ],
      "source": [
        "import torch.nn as nn\n",
        "device = torch.device(\"cuda\" if torch.cuda.is_available() else \"cpu\")\n",
        "model = ChromaLite().to(device)\n",
        "\n",
        "loss_fn = nn.CrossEntropyLoss()\n",
        "optimizer = torch.optim.Adam(model.parameters(), lr=0.001)\n",
        "\n",
        "train(model, train_loader, test_loader, loss_fn, optimizer, device, epochs=8)"
      ]
    }
  ],
  "metadata": {
    "colab": {
      "provenance": []
    },
    "kernelspec": {
      "display_name": "Python 3",
      "name": "python3"
    },
    "language_info": {
      "name": "python"
    }
  },
  "nbformat": 4,
  "nbformat_minor": 0
}
