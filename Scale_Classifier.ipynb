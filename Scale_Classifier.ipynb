{
  "cells": [
    {
      "cell_type": "markdown",
      "metadata": {
        "id": "view-in-github",
        "colab_type": "text"
      },
      "source": [
        "<a href=\"https://colab.research.google.com/github/omavashia2005/ChromaLite/blob/main/Scale_Classifier.ipynb\" target=\"_parent\"><img src=\"https://colab.research.google.com/assets/colab-badge.svg\" alt=\"Open In Colab\"/></a>"
      ]
    },
    {
      "cell_type": "markdown",
      "source": [
        "#### ChromaLite MLP"
      ],
      "metadata": {
        "id": "upAa9pCXKZNZ"
      }
    },
    {
      "cell_type": "code",
      "source": [
        "import torch\n",
        "from torch import nn\n",
        "\n",
        "class ChromaLite(nn.Module):\n",
        "    def __init__(self, input_dim=3624, hidden_dim=512, num_classes=24):\n",
        "        super().__init__()\n",
        "        self.model = nn.Sequential(\n",
        "            nn.Flatten(),\n",
        "            nn.Linear(input_dim, hidden_dim),\n",
        "            nn.BatchNorm1d(hidden_dim),\n",
        "            nn.ReLU(),\n",
        "            nn.Dropout(p=0.30),\n",
        "            nn.Linear(hidden_dim, num_classes)\n",
        "        )\n",
        "\n",
        "    def forward(self, x):\n",
        "        return self.model(x)\n"
      ],
      "metadata": {
        "id": "VEHyYK2XED-h"
      },
      "execution_count": 1,
      "outputs": []
    },
    {
      "cell_type": "markdown",
      "metadata": {
        "id": "8HZ_g47xKtiD"
      },
      "source": [
        "## Some testing on random tensors before writing training loop\n"
      ]
    },
    {
      "cell_type": "code",
      "execution_count": null,
      "metadata": {
        "id": "HyDCXaFECrII",
        "colab": {
          "base_uri": "https://localhost:8080/"
        },
        "outputId": "093b30f0-ddf2-4278-af44-023922ff1a8a"
      },
      "outputs": [
        {
          "output_type": "execute_result",
          "data": {
            "text/plain": [
              "torch.Size([4, 24])"
            ]
          },
          "metadata": {},
          "execution_count": 178
        }
      ],
      "source": [
        "import random\n",
        "model = ChromaLite()\n",
        "random.seed(42)\n",
        "dummy_input = torch.randn(4, 1, 12, 302)\n",
        "output = model(dummy_input)\n",
        "output.shape"
      ]
    },
    {
      "cell_type": "markdown",
      "metadata": {
        "id": "Pi1c3yUYLAxR"
      },
      "source": [
        "## Building a training loop"
      ]
    },
    {
      "cell_type": "markdown",
      "metadata": {
        "id": "ufCJAAGdNzSS"
      },
      "source": [
        "### Loading Data"
      ]
    },
    {
      "cell_type": "code",
      "execution_count": null,
      "metadata": {
        "id": "V8AJz8mFMkaY"
      },
      "outputs": [],
      "source": [
        "import torch\n",
        "from torch.utils.data import DataLoader, Dataset\n",
        "from sklearn.model_selection import train_test_split\n",
        "import pandas as pd\n",
        "\n",
        "data = torch.load(\"/content/chroma_tensors.pt\")\n",
        "X = data['X']  # list of [1, 12, 302] tensors\n",
        "y = data['y']  # list of scale indices\n",
        "\n",
        "\n",
        "seen = set()\n",
        "unique_X = []\n",
        "unique_y = []\n",
        "\n",
        "for x, y_ in zip(X, y):\n",
        "    h = hash(x.numpy().tobytes())\n",
        "    if h not in seen:\n",
        "        seen.add(h)\n",
        "        unique_X.append(x)\n",
        "        unique_y.append(y_)\n",
        "\n",
        "X = unique_X\n",
        "y = unique_y\n",
        "\n",
        "#  stratify ensures that the training and testing sets maintain the same proportion of samples for each class as in the original dataset\n",
        "X_train, X_test, y_train, y_test = train_test_split(\n",
        "    X, y,\n",
        "    test_size=0.2,\n",
        "    stratify=y,\n",
        "    random_state=42,\n",
        "    shuffle=True\n",
        ")"
      ]
    },
    {
      "cell_type": "code",
      "execution_count": null,
      "metadata": {
        "colab": {
          "base_uri": "https://localhost:8080/"
        },
        "id": "aZtmRXN67UPp",
        "outputId": "4b5d2228-af78-4f79-f98a-92a3246d42f0"
      },
      "outputs": [
        {
          "output_type": "execute_result",
          "data": {
            "text/plain": [
              "(396, 1582)"
            ]
          },
          "metadata": {},
          "execution_count": 180
        }
      ],
      "source": [
        "len(X_test), len(y_train)"
      ]
    },
    {
      "cell_type": "code",
      "source": [
        "X[0].shape"
      ],
      "metadata": {
        "colab": {
          "base_uri": "https://localhost:8080/"
        },
        "id": "SGJP-KHDPA3O",
        "outputId": "71dcfcb7-35c6-4993-ddca-39707f6ec400"
      },
      "execution_count": null,
      "outputs": [
        {
          "output_type": "execute_result",
          "data": {
            "text/plain": [
              "torch.Size([1, 12, 302])"
            ]
          },
          "metadata": {},
          "execution_count": 181
        }
      ]
    },
    {
      "cell_type": "code",
      "source": [
        "from collections import Counter\n",
        "import seaborn as sns\n",
        "sns.countplot(x=y_test)\n",
        "mapper = Counter(y_test)\n",
        "mapper"
      ],
      "metadata": {
        "colab": {
          "base_uri": "https://localhost:8080/",
          "height": 847
        },
        "id": "O0fz6mAr1xSF",
        "outputId": "ff2edf21-db27-407f-9569-d8d1e22f8e5f"
      },
      "execution_count": null,
      "outputs": [
        {
          "output_type": "execute_result",
          "data": {
            "text/plain": [
              "Counter({23: 18,\n",
              "         21: 17,\n",
              "         19: 18,\n",
              "         3: 16,\n",
              "         4: 16,\n",
              "         2: 16,\n",
              "         5: 17,\n",
              "         15: 16,\n",
              "         6: 18,\n",
              "         22: 17,\n",
              "         18: 17,\n",
              "         11: 17,\n",
              "         12: 15,\n",
              "         16: 16,\n",
              "         14: 16,\n",
              "         17: 17,\n",
              "         7: 17,\n",
              "         9: 17,\n",
              "         0: 15,\n",
              "         10: 16,\n",
              "         20: 17,\n",
              "         1: 15,\n",
              "         13: 15,\n",
              "         8: 17})"
            ]
          },
          "metadata": {},
          "execution_count": 182
        },
        {
          "output_type": "display_data",
          "data": {
            "text/plain": [
              "<Figure size 640x480 with 1 Axes>"
            ],
            "image/png": "[encoded data removed]"
          },
          "metadata": {}
        }
      ]
    },
    {
      "cell_type": "code",
      "execution_count": null,
      "metadata": {
        "colab": {
          "base_uri": "https://localhost:8080/"
        },
        "id": "CEuk-aIFZneG",
        "outputId": "5dea03a1-0347-4167-80a3-bbd5d3d6e240"
      },
      "outputs": [
        {
          "output_type": "stream",
          "name": "stdout",
          "text": [
            "<class 'list'>\n",
            "<class 'int'>\n"
          ]
        }
      ],
      "source": [
        "print(type(y))\n",
        "print(type(y[0]))"
      ]
    },
    {
      "cell_type": "code",
      "execution_count": null,
      "metadata": {
        "id": "B1mI0IOYM6P6"
      },
      "outputs": [],
      "source": [
        "from torch.utils.data import Dataset\n",
        "class ChromaDataset(Dataset):\n",
        "  def __init__(self, X, y):\n",
        "    self.X = X\n",
        "    self.y = y\n",
        "\n",
        "  def __getitem__(self, idx):\n",
        "    return self.X[idx].float(), torch.tensor(self.y[idx]).long()\n",
        "\n",
        "  def __len__(self):\n",
        "    return len(self.X)"
      ]
    },
    {
      "cell_type": "code",
      "execution_count": null,
      "metadata": {
        "id": "jsQWqobZNWVb"
      },
      "outputs": [],
      "source": [
        "train_dataset = ChromaDataset(X_train, y_train)\n",
        "test_dataset = ChromaDataset(X_test, y_test)\n",
        "\n",
        "train_loader = DataLoader(train_dataset, batch_size=32, shuffle=True)\n",
        "test_loader = DataLoader(test_dataset, batch_size=32)"
      ]
    },
    {
      "cell_type": "markdown",
      "metadata": {
        "id": "JBZZaros6DvK"
      },
      "source": [
        "#### Some Sanity Checks"
      ]
    },
    {
      "cell_type": "markdown",
      "metadata": {
        "id": "wYSE_3K66U9B"
      },
      "source": [
        "Checking types"
      ]
    },
    {
      "cell_type": "code",
      "execution_count": null,
      "metadata": {
        "colab": {
          "base_uri": "https://localhost:8080/"
        },
        "id": "TWubcV5_43En",
        "outputId": "009d6aea-6e23-40f5-c3dc-9c58148d6e14"
      },
      "outputs": [
        {
          "output_type": "execute_result",
          "data": {
            "text/plain": [
              "torch.Size([1, 12, 302])"
            ]
          },
          "metadata": {},
          "execution_count": 185
        }
      ],
      "source": [
        "x, y = train_dataset[0]\n",
        "x.shape"
      ]
    },
    {
      "cell_type": "markdown",
      "metadata": {
        "id": "kTOEiWtb6WNd"
      },
      "source": [
        "Checking ranges"
      ]
    },
    {
      "cell_type": "code",
      "execution_count": null,
      "metadata": {
        "id": "YJl_C7pC44m-"
      },
      "outputs": [],
      "source": []
    },
    {
      "cell_type": "markdown",
      "metadata": {
        "id": "HephwvNt7PNZ"
      },
      "source": [
        "Making sure `ChromaDataset` works"
      ]
    },
    {
      "cell_type": "code",
      "execution_count": null,
      "metadata": {
        "colab": {
          "base_uri": "https://localhost:8080/"
        },
        "id": "HBVivds27S89",
        "outputId": "a7582da8-8310-421b-ed47-0cccf4e24425"
      },
      "outputs": [
        {
          "output_type": "stream",
          "name": "stdout",
          "text": [
            "torch.Size([1, 12, 302])\n"
          ]
        }
      ],
      "source": [
        "dataset = ChromaDataset(X_train, y_train)\n",
        "sample_x, sample_y = dataset[12]\n",
        "print(sample_x.shape)"
      ]
    },
    {
      "cell_type": "markdown",
      "metadata": {
        "id": "ry1NKa4H7ih2"
      },
      "source": [
        "Ensuring `DataLoader()` works"
      ]
    },
    {
      "cell_type": "code",
      "execution_count": null,
      "metadata": {
        "colab": {
          "base_uri": "https://localhost:8080/"
        },
        "id": "50qMfz7q7mTP",
        "outputId": "02e9114d-5252-4973-a240-61d93e0cd9c6"
      },
      "outputs": [
        {
          "output_type": "stream",
          "name": "stdout",
          "text": [
            "torch.Size([4, 1, 12, 302])\n",
            "torch.Size([4])\n"
          ]
        }
      ],
      "source": [
        "loader = DataLoader(dataset, batch_size=4, shuffle=True)\n",
        "xb, yb = next(iter(loader))\n",
        "print(xb.shape)\n",
        "print(yb.shape)"
      ]
    },
    {
      "cell_type": "markdown",
      "metadata": {
        "id": "UctUyqNm7ECj"
      },
      "source": [
        "Recovering chromagram from tensor"
      ]
    },
    {
      "cell_type": "code",
      "execution_count": null,
      "metadata": {
        "colab": {
          "base_uri": "https://localhost:8080/",
          "height": 410
        },
        "id": "IY8I8TNh53qQ",
        "outputId": "cf9c359b-dbf0-4415-be54-5ee8f0cb0842"
      },
      "outputs": [
        {
          "output_type": "display_data",
          "data": {
            "text/plain": [
              "<Figure size 1000x400 with 2 Axes>"
            ],
            "image/png": "[encoded data removed]"
          },
          "metadata": {}
        }
      ],
      "source": [
        "import matplotlib.pyplot as plt\n",
        "import librosa.display\n",
        "\n",
        "chroma = X_train[12].squeeze(0).numpy()  # [12, T]\n",
        "plt.figure(figsize=(10, 4))\n",
        "librosa.display.specshow(chroma, y_axis='chroma', x_axis='time')\n",
        "plt.title(f\"Scale Index: {y_train[12]}\")\n",
        "plt.colorbar()\n",
        "plt.show()"
      ]
    },
    {
      "cell_type": "code",
      "execution_count": null,
      "metadata": {
        "id": "SR1lvK-LNm0u"
      },
      "outputs": [],
      "source": []
    },
    {
      "cell_type": "markdown",
      "metadata": {
        "id": "dyF_2zxtOJpi"
      },
      "source": [
        "### Model Specifications"
      ]
    },
    {
      "cell_type": "markdown",
      "metadata": {
        "id": "HtldVAiFOmpR"
      },
      "source": [
        "### Core Training Loop"
      ]
    },
    {
      "cell_type": "code",
      "execution_count": null,
      "metadata": {
        "id": "tXP4kQLVOM8j"
      },
      "outputs": [],
      "source": [
        "from tqdm import tqdm\n",
        "def train_single_epoch(model, data_loader, loss_fn, optimizer, device):\n",
        "    model.train()\n",
        "    running_loss = 0.0\n",
        "    correct = 0\n",
        "    total = 0\n",
        "\n",
        "    for xb, yb in data_loader:\n",
        "        xb, yb = xb.to(device), yb.to(device)\n",
        "\n",
        "        optimizer.zero_grad()\n",
        "        outputs = model(xb)\n",
        "        loss = loss_fn(outputs, yb)\n",
        "        loss.backward()\n",
        "        optimizer.step()\n",
        "\n",
        "        running_loss += loss.item()\n",
        "        preds = torch.argmax(outputs, dim=1)\n",
        "        correct += (preds == yb).sum().item()\n",
        "        total += yb.size(0)\n",
        "\n",
        "    train_acc = correct / total\n",
        "    avg_loss = running_loss / len(data_loader)\n",
        "\n",
        "    return avg_loss, train_acc\n",
        "\n",
        "def evaluate(model, data_loader, device):\n",
        "    model.eval()\n",
        "    correct = 0\n",
        "    total = 0\n",
        "\n",
        "    with torch.no_grad():\n",
        "        for xb, yb in data_loader:\n",
        "            xb, yb = xb.to(device), yb.to(device)\n",
        "            outputs = model(xb)\n",
        "            preds = torch.argmax(outputs, dim=1)\n",
        "            correct += (preds == yb).sum().item()\n",
        "            total += yb.size(0)\n",
        "\n",
        "    return correct / total\n",
        "\n",
        "def train(model, train_loader, test_loader, loss_fn, optimizer, device, epochs):\n",
        "    train_losses = []\n",
        "    train_accuracies = []\n",
        "    test_accuracies = []\n",
        "\n",
        "    for epoch in range(epochs):\n",
        "        print(f\"\\nEpoch {epoch+1}/{epochs}\")\n",
        "\n",
        "        train_loss, train_acc = train_single_epoch(model, train_loader, loss_fn, optimizer, device)\n",
        "        test_acc = evaluate(model, test_loader, device)\n",
        "\n",
        "        train_losses.append(train_loss)\n",
        "        train_accuracies.append(train_acc)\n",
        "        test_accuracies.append(test_acc)\n",
        "\n",
        "        print(f\"Train Loss: {train_loss:.4f} | Train Acc: {train_acc * 100 :.2f} %| Test Acc: {test_acc * 100:.2f} %\")\n",
        "\n",
        "        if epoch == epochs - 1:\n",
        "          epochs_range = range(1, len(train_losses) + 1)\n",
        "\n",
        "          plt.figure(figsize=(14, 5))\n",
        "\n",
        "          # Accuracy plot\n",
        "          plt.subplot(1, 2, 1)\n",
        "          plt.plot(epochs_range, train_accuracies, label='Train Accuracy')\n",
        "          plt.plot(epochs_range, test_accuracies, label='Test Accuracy')\n",
        "          plt.title('Accuracy Over Epochs')\n",
        "          plt.xlabel('Epoch')\n",
        "          plt.ylabel('Accuracy')\n",
        "          plt.legend()\n",
        "          plt.grid(True, alpha=0.3)\n",
        "\n",
        "          # Loss plot\n",
        "          plt.subplot(1, 2, 2)\n",
        "          plt.plot(epochs_range, train_losses, label='Train Loss')\n",
        "          plt.title('Training Loss Over Epochs')\n",
        "          plt.xlabel('Epoch')\n",
        "          plt.ylabel('Loss')\n",
        "          plt.legend()\n",
        "          plt.grid(True, alpha=0.3)\n",
        "\n",
        "          plt.tight_layout()\n",
        "          plt.show()\n",
        "        print(\"-\" * 70)\n"
      ]
    },
    {
      "cell_type": "markdown",
      "source": [
        "# Confusion Matrix and Some Model Metrics"
      ],
      "metadata": {
        "id": "v1d6xlQWW0tQ"
      }
    },
    {
      "cell_type": "code",
      "source": [
        "from sklearn.metrics import confusion_matrix, ConfusionMatrixDisplay\n",
        "import matplotlib.pyplot as plt\n",
        "import torch\n",
        "\n",
        "all_preds, all_labels = [], []\n",
        "\n",
        "model.eval()\n",
        "with torch.no_grad():\n",
        "    for x, y in test_loader:\n",
        "        y_pred = model(x).argmax(dim=1)\n",
        "        all_preds.extend(y_pred)\n",
        "        all_labels.extend(y)\n",
        "\n",
        "cm = confusion_matrix(all_labels, all_preds)\n",
        "disp = ConfusionMatrixDisplay(confusion_matrix=cm)\n",
        "disp.plot(cmap='Blues', xticks_rotation=90)\n",
        "plt.title(\"Confusion Matrix - Scale Prediction\")\n",
        "plt.show()"
      ],
      "metadata": {
        "id": "vrIntzq5yx2T",
        "colab": {
          "base_uri": "https://localhost:8080/",
          "height": 475
        },
        "outputId": "9450f173-b405-4284-dbb8-1ef3fbe33afe"
      },
      "execution_count": null,
      "outputs": [
        {
          "output_type": "display_data",
          "data": {
            "text/plain": [
              "<Figure size 640x480 with 2 Axes>"
            ],
            "image/png": "[encoded data removed]"
          },
          "metadata": {}
        }
      ]
    },
    {
      "cell_type": "code",
      "source": [
        "import numpy as np\n",
        "preds = np.array(all_preds)\n",
        "labels = np.array(all_labels)\n",
        "\n",
        "# How many times the model *predicted* class 3\n",
        "pred_count = np.sum(preds == 23)\n",
        "\n",
        "# How many of those were *actually* class 3\n",
        "correct_count = np.sum((preds == 23) & (labels == 23))\n",
        "\n",
        "print(f\"Predicted class 16: {pred_count}\")\n",
        "print(f\"Correctly predicted class 16: {correct_count}\")"
      ],
      "metadata": {
        "colab": {
          "base_uri": "https://localhost:8080/"
        },
        "id": "e4vJfk-ZfoPx",
        "outputId": "6f375969-8c30-4f95-d2e5-0c9b67972dc7"
      },
      "execution_count": null,
      "outputs": [
        {
          "output_type": "stream",
          "name": "stdout",
          "text": [
            "Predicted class 16: 21\n",
            "Correctly predicted class 16: 18\n"
          ]
        }
      ]
    }
  ],
  "metadata": {
    "colab": {
      "provenance": [],
      "gpuType": "T4",
      "authorship_tag": "ABX9TyOM1tPBiO8lJMN1upiXB+CG",
      "include_colab_link": true
    },
    "kernelspec": {
      "display_name": "Python 3",
      "name": "python3"
    },
    "language_info": {
      "name": "python"
    },
    "accelerator": "GPU"
  },
  "nbformat": 4,
  "nbformat_minor": 0
}